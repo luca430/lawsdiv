{
 "cells": [
  {
   "cell_type": "code",
   "execution_count": 1,
   "id": "bb91f4ee-e02d-4f32-ac1f-2a0df0f083b2",
   "metadata": {},
   "outputs": [
    {
     "name": "stderr",
     "output_type": "stream",
     "text": [
      "\u001b[32m\u001b[1m  Activating\u001b[22m\u001b[39m project at `~/code/lawsdiv`\n"
     ]
    }
   ],
   "source": [
    "using Pkg\n",
    "Pkg.activate(\".\")"
   ]
  },
  {
   "cell_type": "code",
   "execution_count": 2,
   "id": "1a8d06d2-caae-4af6-b93c-39762f3a008e",
   "metadata": {},
   "outputs": [],
   "source": [
    "using DataFrames, DataFramesMeta, GLM\n",
    "using Statistics, StatsBase\n",
    "using SparseArrays\n",
    "using FHist\n",
    "using Plots"
   ]
  },
  {
   "cell_type": "code",
   "execution_count": 3,
   "id": "abdcc253-a5f4-4e88-8a61-f93f47a411a7",
   "metadata": {},
   "outputs": [],
   "source": [
    "include(\"./Data_Input.jl\")\n",
    "using .DataImport"
   ]
  },
  {
   "cell_type": "code",
   "execution_count": 4,
   "id": "6b65da1f-7426-46b3-b9ca-cf8d2db74988",
   "metadata": {},
   "outputs": [],
   "source": [
    "sep_data = DataImport.GetCrossSecData(\"./Data/crosssecdata.RData\"; min_samples=100, min_counts=0, min_nreads=1000);"
   ]
  },
  {
   "cell_type": "code",
   "execution_count": 5,
   "id": "5cdf1372-1a68-4bda-ae46-724137877f04",
   "metadata": {},
   "outputs": [
    {
     "name": "stdout",
     "output_type": "stream",
     "text": [
      "SEAWATER\n",
      "RIVER\n",
      "ORAL\n",
      "ORALCAVITY\n",
      "GUT\n",
      "AQUA1\n",
      "GLACIER\n",
      "SLUDGE\n",
      "LAKE\n",
      "SOIL\n",
      "VAGINAL\n",
      "AQUA2\n",
      "FECES\n",
      "SKIN\n"
     ]
    }
   ],
   "source": [
    "env_matrix = Dict()\n",
    "for (key, data) in sep_data\n",
    "    println(key)\n",
    "\n",
    "    # Compute frequencies\n",
    "    data.f = data.count ./ data.nreads \n",
    "\n",
    "    # Get otus and runs for considered environment\n",
    "    otus = unique(data.otu_id)\n",
    "    runs = unique(data.run_id)\n",
    "    otu_index = Dict(otu => i for (i, otu) in enumerate(otus))\n",
    "    run_index = Dict(run => i for (i, run) in enumerate(runs))\n",
    "\n",
    "    # Initialize matrix with zeros\n",
    "    y = zeros(length(runs), length(otus))\n",
    "    \n",
    "    otu_groups = groupby(data, :otu_id)\n",
    "    for g in otu_groups\n",
    "        otu = g.otu_id[1]\n",
    "        i = otu_index[otu]\n",
    "        for (run, fval) in zip(g.run_id, g.f)\n",
    "            j = run_index[run]\n",
    "            y[j, i] = fval\n",
    "        end\n",
    "    end\n",
    "\n",
    "    zero_counts = sum(y .== 0, dims=1)\n",
    "    perm = sortperm(vec(zero_counts))\n",
    "\n",
    "    env_matrix[\"$key\"] = sparse(y[:, perm])\n",
    "\n",
    "end"
   ]
  },
  {
   "cell_type": "code",
   "execution_count": 6,
   "id": "a8d60da8-3810-41e9-917f-87f5fa4b2c84",
   "metadata": {},
   "outputs": [
    {
     "data": {
      "text/plain": [
       "make_LRM (generic function with 2 methods)"
      ]
     },
     "execution_count": 6,
     "metadata": {},
     "output_type": "execute_result"
    }
   ],
   "source": [
    "function make_LRM(x, portion=1)\n",
    "    \n",
    "    S = Int64(floor(length(x) * portion))\n",
    "    lx = log.(x[1:S])\n",
    "    M = repeat(lx, 1, S)\n",
    "    LRM = M - M'\n",
    "    LRM[isnan.(LRM)] .= 0.0\n",
    "    LRM[isinf.(LRM)] .= 0.0\n",
    "    \n",
    "    return sparse(LRM)\n",
    "end"
   ]
  },
  {
   "cell_type": "code",
   "execution_count": 11,
   "id": "501ccba0-42f3-4b5d-955d-06c69eca8134",
   "metadata": {},
   "outputs": [
    {
     "name": "stdout",
     "output_type": "stream",
     "text": [
      "(476, 2161)\n",
      "1\n",
      "2\n",
      "3\n",
      "4\n",
      "5\n",
      "6\n",
      "7\n",
      "8\n",
      "9\n",
      "10\n",
      "11\n",
      "12\n",
      "13\n",
      "14\n",
      "15\n",
      "16\n",
      "17\n",
      "18\n",
      "19\n",
      "20\n"
     ]
    }
   ],
   "source": [
    "y = env_matrix[\"SEAWATER\"]\n",
    "println(size(y))\n",
    "\n",
    "LRMs = []\n",
    "for i in 1:20#size(y,1)\n",
    "    println(i)\n",
    "    LRM = make_LRM(y[i,:], 0.5)\n",
    "    push!(LRMs, LRM)\n",
    "end"
   ]
  },
  {
   "cell_type": "code",
   "execution_count": 18,
   "id": "ff72dc2f-2c9e-4e45-b1ce-690ba0ed4960",
   "metadata": {},
   "outputs": [
    {
     "data": {
      "image/png": "[encoded data removed]",
      "image/svg+xml": [
       "<?xml version=\"1.0\" encoding=\"utf-8\"?>\n",
       "<svg xmlns=\"http://www.w3.org/2000/svg\" xmlns:xlink=\"http://www.w3.org/1999/xlink\" width=\"600\" height=\"400\" viewBox=\"0 0 2400 1600\">\n",
       "<defs>\n",
       "  <clipPath id=\"clip260\">\n",
       "    <rect x=\"0\" y=\"0\" width=\"2400\" height=\"1600\"/>\n",
       "  </clipPath>\n",
       "</defs>\n",
       "<path clip-path=\"url(#clip260)\" d=\"M0 1600 L2400 1600 L2400 0 L0 0  Z\" fill=\"#ffffff\" fill-rule=\"evenodd\" fill-opacity=\"1\"/>\n",
       "<defs>\n",
       "  <clipPath id=\"clip261\">\n",
       "    <rect x=\"480\" y=\"0\" width=\"1681\" height=\"1600\"/>\n",
       "  </clipPath>\n",
       "</defs>\n",
       "<path clip-path=\"url(#clip260)\" d=\"M149.191 1486.45 L2352.76 1486.45 L2352.76 47.2441 L149.191 47.2441  Z\" fill=\"#ffffff\" fill-rule=\"evenodd\" fill-opacity=\"1\"/>\n",
       "<defs>\n",
       "  <clipPath id=\"clip262\">\n",
       "    <rect x=\"149\" y=\"47\" width=\"2205\" height=\"1440\"/>\n",
       "  </clipPath>\n",
       "</defs>\n",
       "<polyline clip-path=\"url(#clip262)\" style=\"stroke:#000000; stroke-linecap:round; stroke-linejoin:round; stroke-width:2; stroke-opacity:0.1; fill:none\" points=\"175.714,1486.45 175.714,47.2441 \"/>\n",
       "<polyline clip-path=\"url(#clip262)\" style=\"stroke:#000000; stroke-linecap:round; stroke-linejoin:round; stroke-width:2; stroke-opacity:0.1; fill:none\" points=\"653.607,1486.45 653.607,47.2441 \"/>\n",
       "<polyline clip-path=\"url(#clip262)\" style=\"stroke:#000000; stroke-linecap:round; stroke-linejoin:round; stroke-width:2; stroke-opacity:0.1; fill:none\" points=\"1131.5,1486.45 1131.5,47.2441 \"/>\n",
       "<polyline clip-path=\"url(#clip262)\" style=\"stroke:#000000; stroke-linecap:round; stroke-linejoin:round; stroke-width:2; stroke-opacity:0.1; fill:none\" points=\"1609.39,1486.45 1609.39,47.2441 \"/>\n",
       "<polyline clip-path=\"url(#clip262)\" style=\"stroke:#000000; stroke-linecap:round; stroke-linejoin:round; stroke-width:2; stroke-opacity:0.1; fill:none\" points=\"2087.29,1486.45 2087.29,47.2441 \"/>\n",
       "<polyline clip-path=\"url(#clip262)\" style=\"stroke:#000000; stroke-linecap:round; stroke-linejoin:round; stroke-width:2; stroke-opacity:0.1; fill:none\" points=\"149.191,1283.7 2352.76,1283.7 \"/>\n",
       "<polyline clip-path=\"url(#clip262)\" style=\"stroke:#000000; stroke-linecap:round; stroke-linejoin:round; stroke-width:2; stroke-opacity:0.1; fill:none\" points=\"149.191,907.686 2352.76,907.686 \"/>\n",
       "<polyline clip-path=\"url(#clip262)\" style=\"stroke:#000000; stroke-linecap:round; stroke-linejoin:round; stroke-width:2; stroke-opacity:0.1; fill:none\" points=\"149.191,531.676 2352.76,531.676 \"/>\n",
       "<polyline clip-path=\"url(#clip262)\" style=\"stroke:#000000; stroke-linecap:round; stroke-linejoin:round; stroke-width:2; stroke-opacity:0.1; fill:none\" points=\"149.191,155.667 2352.76,155.667 \"/>\n",
       "<polyline clip-path=\"url(#clip260)\" style=\"stroke:#000000; stroke-linecap:round; stroke-linejoin:round; stroke-width:4; stroke-opacity:1; fill:none\" points=\"149.191,1486.45 2352.76,1486.45 \"/>\n",
       "<polyline clip-path=\"url(#clip260)\" style=\"stroke:#000000; stroke-linecap:round; stroke-linejoin:round; stroke-width:4; stroke-opacity:1; fill:none\" points=\"175.714,1486.45 175.714,1467.55 \"/>\n",
       "<polyline clip-path=\"url(#clip260)\" style=\"stroke:#000000; stroke-linecap:round; stroke-linejoin:round; stroke-width:4; stroke-opacity:1; fill:none\" points=\"653.607,1486.45 653.607,1467.55 \"/>\n",
       "<polyline clip-path=\"url(#clip260)\" style=\"stroke:#000000; stroke-linecap:round; stroke-linejoin:round; stroke-width:4; stroke-opacity:1; fill:none\" points=\"1131.5,1486.45 1131.5,1467.55 \"/>\n",
       "<polyline clip-path=\"url(#clip260)\" style=\"stroke:#000000; stroke-linecap:round; stroke-linejoin:round; stroke-width:4; stroke-opacity:1; fill:none\" points=\"1609.39,1486.45 1609.39,1467.55 \"/>\n",
       "<polyline clip-path=\"url(#clip260)\" style=\"stroke:#000000; stroke-linecap:round; stroke-linejoin:round; stroke-width:4; stroke-opacity:1; fill:none\" points=\"2087.29,1486.45 2087.29,1467.55 \"/>\n",
       "<path clip-path=\"url(#clip260)\" d=\"M175.714 1517.37 Q172.103 1517.37 170.274 1520.93 Q168.469 1524.47 168.469 1531.6 Q168.469 1538.71 170.274 1542.27 Q172.103 1545.82 175.714 1545.82 Q179.348 1545.82 181.154 1542.27 Q182.982 1538.71 182.982 1531.6 Q182.982 1524.47 181.154 1520.93 Q179.348 1517.37 175.714 1517.37 M175.714 1513.66 Q181.524 1513.66 184.58 1518.27 Q187.658 1522.85 187.658 1531.6 Q187.658 1540.33 184.58 1544.94 Q181.524 1549.52 175.714 1549.52 Q169.904 1549.52 166.825 1544.94 Q163.77 1540.33 163.77 1531.6 Q163.77 1522.85 166.825 1518.27 Q169.904 1513.66 175.714 1513.66 Z\" fill=\"#000000\" fill-rule=\"nonzero\" fill-opacity=\"1\" /><path clip-path=\"url(#clip260)\" d=\"M648.26 1544.91 L664.579 1544.91 L664.579 1548.85 L642.635 1548.85 L642.635 1544.91 Q645.297 1542.16 649.88 1537.53 Q654.487 1532.88 655.667 1531.53 Q657.913 1529.01 658.792 1527.27 Q659.695 1525.51 659.695 1523.82 Q659.695 1521.07 657.751 1519.33 Q655.829 1517.6 652.727 1517.6 Q650.528 1517.6 648.075 1518.36 Q645.644 1519.13 642.866 1520.68 L642.866 1515.95 Q645.69 1514.82 648.144 1514.24 Q650.598 1513.66 652.635 1513.66 Q658.005 1513.66 661.2 1516.35 Q664.394 1519.03 664.394 1523.52 Q664.394 1525.65 663.584 1527.57 Q662.797 1529.47 660.69 1532.07 Q660.112 1532.74 657.01 1535.95 Q653.908 1539.15 648.26 1544.91 Z\" fill=\"#000000\" fill-rule=\"nonzero\" fill-opacity=\"1\" /><path clip-path=\"url(#clip260)\" d=\"M1134.51 1518.36 L1122.7 1536.81 L1134.51 1536.81 L1134.51 1518.36 M1133.28 1514.29 L1139.16 1514.29 L1139.16 1536.81 L1144.09 1536.81 L1144.09 1540.7 L1139.16 1540.7 L1139.16 1548.85 L1134.51 1548.85 L1134.51 1540.7 L1118.91 1540.7 L1118.91 1536.19 L1133.28 1514.29 Z\" fill=\"#000000\" fill-rule=\"nonzero\" fill-opacity=\"1\" /><path clip-path=\"url(#clip260)\" d=\"M1609.8 1529.7 Q1606.65 1529.7 1604.8 1531.86 Q1602.97 1534.01 1602.97 1537.76 Q1602.97 1541.49 1604.8 1543.66 Q1606.65 1545.82 1609.8 1545.82 Q1612.95 1545.82 1614.78 1543.66 Q1616.63 1541.49 1616.63 1537.76 Q1616.63 1534.01 1614.78 1531.86 Q1612.95 1529.7 1609.8 1529.7 M1619.08 1515.05 L1619.08 1519.31 Q1617.32 1518.48 1615.52 1518.04 Q1613.73 1517.6 1611.97 1517.6 Q1607.34 1517.6 1604.89 1520.72 Q1602.46 1523.85 1602.11 1530.17 Q1603.48 1528.15 1605.54 1527.09 Q1607.6 1526 1610.08 1526 Q1615.28 1526 1618.29 1529.17 Q1621.33 1532.32 1621.33 1537.76 Q1621.33 1543.08 1618.18 1546.3 Q1615.03 1549.52 1609.8 1549.52 Q1603.8 1549.52 1600.63 1544.94 Q1597.46 1540.33 1597.46 1531.6 Q1597.46 1523.41 1601.35 1518.55 Q1605.24 1513.66 1611.79 1513.66 Q1613.55 1513.66 1615.33 1514.01 Q1617.14 1514.36 1619.08 1515.05 Z\" fill=\"#000000\" fill-rule=\"nonzero\" fill-opacity=\"1\" /><path clip-path=\"url(#clip260)\" d=\"M2087.29 1532.44 Q2083.95 1532.44 2082.03 1534.22 Q2080.13 1536 2080.13 1539.13 Q2080.13 1542.25 2082.03 1544.03 Q2083.95 1545.82 2087.29 1545.82 Q2090.62 1545.82 2092.54 1544.03 Q2094.46 1542.23 2094.46 1539.13 Q2094.46 1536 2092.54 1534.22 Q2090.64 1532.44 2087.29 1532.44 M2082.61 1530.45 Q2079.6 1529.7 2077.91 1527.64 Q2076.24 1525.58 2076.24 1522.62 Q2076.24 1518.48 2079.18 1516.07 Q2082.15 1513.66 2087.29 1513.66 Q2092.45 1513.66 2095.39 1516.07 Q2098.33 1518.48 2098.33 1522.62 Q2098.33 1525.58 2096.64 1527.64 Q2094.97 1529.7 2091.99 1530.45 Q2095.36 1531.23 2097.24 1533.52 Q2099.14 1535.82 2099.14 1539.13 Q2099.14 1544.15 2096.06 1546.83 Q2093 1549.52 2087.29 1549.52 Q2081.57 1549.52 2078.49 1546.83 Q2075.43 1544.15 2075.43 1539.13 Q2075.43 1535.82 2077.33 1533.52 Q2079.23 1531.23 2082.61 1530.45 M2080.9 1523.06 Q2080.9 1525.75 2082.56 1527.25 Q2084.25 1528.76 2087.29 1528.76 Q2090.3 1528.76 2091.99 1527.25 Q2093.7 1525.75 2093.7 1523.06 Q2093.7 1520.38 2091.99 1518.87 Q2090.3 1517.37 2087.29 1517.37 Q2084.25 1517.37 2082.56 1518.87 Q2080.9 1520.38 2080.9 1523.06 Z\" fill=\"#000000\" fill-rule=\"nonzero\" fill-opacity=\"1\" /><polyline clip-path=\"url(#clip260)\" style=\"stroke:#000000; stroke-linecap:round; stroke-linejoin:round; stroke-width:4; stroke-opacity:1; fill:none\" points=\"149.191,1486.45 149.191,47.2441 \"/>\n",
       "<polyline clip-path=\"url(#clip260)\" style=\"stroke:#000000; stroke-linecap:round; stroke-linejoin:round; stroke-width:4; stroke-opacity:1; fill:none\" points=\"149.191,1283.7 168.089,1283.7 \"/>\n",
       "<polyline clip-path=\"url(#clip260)\" style=\"stroke:#000000; stroke-linecap:round; stroke-linejoin:round; stroke-width:4; stroke-opacity:1; fill:none\" points=\"149.191,907.686 168.089,907.686 \"/>\n",
       "<polyline clip-path=\"url(#clip260)\" style=\"stroke:#000000; stroke-linecap:round; stroke-linejoin:round; stroke-width:4; stroke-opacity:1; fill:none\" points=\"149.191,531.676 168.089,531.676 \"/>\n",
       "<polyline clip-path=\"url(#clip260)\" style=\"stroke:#000000; stroke-linecap:round; stroke-linejoin:round; stroke-width:4; stroke-opacity:1; fill:none\" points=\"149.191,155.667 168.089,155.667 \"/>\n",
       "<path clip-path=\"url(#clip260)\" d=\"M50.9921 1284.15 L80.6679 1284.15 L80.6679 1288.08 L50.9921 1288.08 L50.9921 1284.15 Z\" fill=\"#000000\" fill-rule=\"nonzero\" fill-opacity=\"1\" /><path clip-path=\"url(#clip260)\" d=\"M103.608 1270.49 L91.8021 1288.94 L103.608 1288.94 L103.608 1270.49 M102.381 1266.42 L108.26 1266.42 L108.26 1288.94 L113.191 1288.94 L113.191 1292.83 L108.26 1292.83 L108.26 1300.98 L103.608 1300.98 L103.608 1292.83 L88.0058 1292.83 L88.0058 1288.31 L102.381 1266.42 Z\" fill=\"#000000\" fill-rule=\"nonzero\" fill-opacity=\"1\" /><path clip-path=\"url(#clip260)\" d=\"M52.1264 908.137 L81.8021 908.137 L81.8021 912.072 L52.1264 912.072 L52.1264 908.137 Z\" fill=\"#000000\" fill-rule=\"nonzero\" fill-opacity=\"1\" /><path clip-path=\"url(#clip260)\" d=\"M106.061 906.332 Q109.418 907.049 111.293 909.318 Q113.191 911.586 113.191 914.92 Q113.191 920.035 109.672 922.836 Q106.154 925.637 99.6724 925.637 Q97.4965 925.637 95.1817 925.197 Q92.89 924.781 90.4364 923.924 L90.4364 919.41 Q92.3808 920.545 94.6956 921.123 Q97.0104 921.702 99.5335 921.702 Q103.932 921.702 106.223 919.966 Q108.538 918.23 108.538 914.92 Q108.538 911.864 106.385 910.151 Q104.256 908.415 100.436 908.415 L96.4085 908.415 L96.4085 904.572 L100.621 904.572 Q104.071 904.572 105.899 903.207 Q107.728 901.818 107.728 899.225 Q107.728 896.563 105.83 895.151 Q103.955 893.716 100.436 893.716 Q98.515 893.716 96.316 894.133 Q94.1169 894.549 91.478 895.429 L91.478 891.262 Q94.14 890.522 96.4548 890.151 Q98.7928 889.781 100.853 889.781 Q106.177 889.781 109.279 892.211 Q112.381 894.619 112.381 898.739 Q112.381 901.609 110.737 903.6 Q109.094 905.568 106.061 906.332 Z\" fill=\"#000000\" fill-rule=\"nonzero\" fill-opacity=\"1\" /><path clip-path=\"url(#clip260)\" d=\"M53.0754 532.128 L82.7512 532.128 L82.7512 536.063 L53.0754 536.063 L53.0754 532.128 Z\" fill=\"#000000\" fill-rule=\"nonzero\" fill-opacity=\"1\" /><path clip-path=\"url(#clip260)\" d=\"M96.8715 545.021 L113.191 545.021 L113.191 548.956 L91.2465 548.956 L91.2465 545.021 Q93.9086 542.267 98.4919 537.637 Q103.098 532.984 104.279 531.642 Q106.524 529.118 107.404 527.382 Q108.307 525.623 108.307 523.933 Q108.307 521.179 106.362 519.443 Q104.441 517.706 101.339 517.706 Q99.14 517.706 96.6863 518.47 Q94.2558 519.234 91.478 520.785 L91.478 516.063 Q94.3021 514.929 96.7558 514.35 Q99.2095 513.771 101.246 513.771 Q106.617 513.771 109.811 516.456 Q113.006 519.142 113.006 523.632 Q113.006 525.762 112.196 527.683 Q111.408 529.581 109.302 532.174 Q108.723 532.845 105.621 536.063 Q102.52 539.257 96.8715 545.021 Z\" fill=\"#000000\" fill-rule=\"nonzero\" fill-opacity=\"1\" /><path clip-path=\"url(#clip260)\" d=\"M52.7051 156.118 L82.3808 156.118 L82.3808 160.053 L52.7051 160.053 L52.7051 156.118 Z\" fill=\"#000000\" fill-rule=\"nonzero\" fill-opacity=\"1\" /><path clip-path=\"url(#clip260)\" d=\"M93.2836 169.012 L100.922 169.012 L100.922 142.646 L92.6123 144.313 L92.6123 140.053 L100.876 138.387 L105.552 138.387 L105.552 169.012 L113.191 169.012 L113.191 172.947 L93.2836 172.947 L93.2836 169.012 Z\" fill=\"#000000\" fill-rule=\"nonzero\" fill-opacity=\"1\" /><circle clip-path=\"url(#clip262)\" cx=\"211.556\" cy=\"638.157\" r=\"14.4\" fill=\"#009af9\" fill-rule=\"evenodd\" fill-opacity=\"1\" stroke=\"#000000\" stroke-opacity=\"1\" stroke-width=\"3.2\"/>\n",
       "<circle clip-path=\"url(#clip262)\" cx=\"283.24\" cy=\"394.61\" r=\"14.4\" fill=\"#009af9\" fill-rule=\"evenodd\" fill-opacity=\"1\" stroke=\"#000000\" stroke-opacity=\"1\" stroke-width=\"3.2\"/>\n",
       "<circle clip-path=\"url(#clip262)\" cx=\"354.924\" cy=\"87.9763\" r=\"14.4\" fill=\"#009af9\" fill-rule=\"evenodd\" fill-opacity=\"1\" stroke=\"#000000\" stroke-opacity=\"1\" stroke-width=\"3.2\"/>\n",
       "<circle clip-path=\"url(#clip262)\" cx=\"426.608\" cy=\"246.335\" r=\"14.4\" fill=\"#009af9\" fill-rule=\"evenodd\" fill-opacity=\"1\" stroke=\"#000000\" stroke-opacity=\"1\" stroke-width=\"3.2\"/>\n",
       "<circle clip-path=\"url(#clip262)\" cx=\"498.292\" cy=\"419.377\" r=\"14.4\" fill=\"#009af9\" fill-rule=\"evenodd\" fill-opacity=\"1\" stroke=\"#000000\" stroke-opacity=\"1\" stroke-width=\"3.2\"/>\n",
       "<circle clip-path=\"url(#clip262)\" cx=\"569.976\" cy=\"226.342\" r=\"14.4\" fill=\"#009af9\" fill-rule=\"evenodd\" fill-opacity=\"1\" stroke=\"#000000\" stroke-opacity=\"1\" stroke-width=\"3.2\"/>\n",
       "<circle clip-path=\"url(#clip262)\" cx=\"641.66\" cy=\"481.9\" r=\"14.4\" fill=\"#009af9\" fill-rule=\"evenodd\" fill-opacity=\"1\" stroke=\"#000000\" stroke-opacity=\"1\" stroke-width=\"3.2\"/>\n",
       "<circle clip-path=\"url(#clip262)\" cx=\"713.344\" cy=\"356.194\" r=\"14.4\" fill=\"#009af9\" fill-rule=\"evenodd\" fill-opacity=\"1\" stroke=\"#000000\" stroke-opacity=\"1\" stroke-width=\"3.2\"/>\n",
       "<circle clip-path=\"url(#clip262)\" cx=\"785.028\" cy=\"592.387\" r=\"14.4\" fill=\"#009af9\" fill-rule=\"evenodd\" fill-opacity=\"1\" stroke=\"#000000\" stroke-opacity=\"1\" stroke-width=\"3.2\"/>\n",
       "<circle clip-path=\"url(#clip262)\" cx=\"856.712\" cy=\"579.922\" r=\"14.4\" fill=\"#009af9\" fill-rule=\"evenodd\" fill-opacity=\"1\" stroke=\"#000000\" stroke-opacity=\"1\" stroke-width=\"3.2\"/>\n",
       "<circle clip-path=\"url(#clip262)\" cx=\"928.396\" cy=\"711.707\" r=\"14.4\" fill=\"#009af9\" fill-rule=\"evenodd\" fill-opacity=\"1\" stroke=\"#000000\" stroke-opacity=\"1\" stroke-width=\"3.2\"/>\n",
       "<circle clip-path=\"url(#clip262)\" cx=\"1000.08\" cy=\"694.69\" r=\"14.4\" fill=\"#009af9\" fill-rule=\"evenodd\" fill-opacity=\"1\" stroke=\"#000000\" stroke-opacity=\"1\" stroke-width=\"3.2\"/>\n",
       "<circle clip-path=\"url(#clip262)\" cx=\"1071.76\" cy=\"676.291\" r=\"14.4\" fill=\"#009af9\" fill-rule=\"evenodd\" fill-opacity=\"1\" stroke=\"#000000\" stroke-opacity=\"1\" stroke-width=\"3.2\"/>\n",
       "<circle clip-path=\"url(#clip262)\" cx=\"1143.45\" cy=\"733.199\" r=\"14.4\" fill=\"#009af9\" fill-rule=\"evenodd\" fill-opacity=\"1\" stroke=\"#000000\" stroke-opacity=\"1\" stroke-width=\"3.2\"/>\n",
       "<circle clip-path=\"url(#clip262)\" cx=\"1215.13\" cy=\"593.233\" r=\"14.4\" fill=\"#009af9\" fill-rule=\"evenodd\" fill-opacity=\"1\" stroke=\"#000000\" stroke-opacity=\"1\" stroke-width=\"3.2\"/>\n",
       "<circle clip-path=\"url(#clip262)\" cx=\"1286.82\" cy=\"650.772\" r=\"14.4\" fill=\"#009af9\" fill-rule=\"evenodd\" fill-opacity=\"1\" stroke=\"#000000\" stroke-opacity=\"1\" stroke-width=\"3.2\"/>\n",
       "<circle clip-path=\"url(#clip262)\" cx=\"1358.5\" cy=\"845.488\" r=\"14.4\" fill=\"#009af9\" fill-rule=\"evenodd\" fill-opacity=\"1\" stroke=\"#000000\" stroke-opacity=\"1\" stroke-width=\"3.2\"/>\n",
       "<circle clip-path=\"url(#clip262)\" cx=\"1430.18\" cy=\"707.093\" r=\"14.4\" fill=\"#009af9\" fill-rule=\"evenodd\" fill-opacity=\"1\" stroke=\"#000000\" stroke-opacity=\"1\" stroke-width=\"3.2\"/>\n",
       "<circle clip-path=\"url(#clip262)\" cx=\"1501.87\" cy=\"906.5\" r=\"14.4\" fill=\"#009af9\" fill-rule=\"evenodd\" fill-opacity=\"1\" stroke=\"#000000\" stroke-opacity=\"1\" stroke-width=\"3.2\"/>\n",
       "<circle clip-path=\"url(#clip262)\" cx=\"1573.55\" cy=\"852.173\" r=\"14.4\" fill=\"#009af9\" fill-rule=\"evenodd\" fill-opacity=\"1\" stroke=\"#000000\" stroke-opacity=\"1\" stroke-width=\"3.2\"/>\n",
       "<circle clip-path=\"url(#clip262)\" cx=\"1645.24\" cy=\"1052.2\" r=\"14.4\" fill=\"#009af9\" fill-rule=\"evenodd\" fill-opacity=\"1\" stroke=\"#000000\" stroke-opacity=\"1\" stroke-width=\"3.2\"/>\n",
       "<circle clip-path=\"url(#clip262)\" cx=\"1716.92\" cy=\"762.58\" r=\"14.4\" fill=\"#009af9\" fill-rule=\"evenodd\" fill-opacity=\"1\" stroke=\"#000000\" stroke-opacity=\"1\" stroke-width=\"3.2\"/>\n",
       "<circle clip-path=\"url(#clip262)\" cx=\"1788.6\" cy=\"887.505\" r=\"14.4\" fill=\"#009af9\" fill-rule=\"evenodd\" fill-opacity=\"1\" stroke=\"#000000\" stroke-opacity=\"1\" stroke-width=\"3.2\"/>\n",
       "<circle clip-path=\"url(#clip262)\" cx=\"1860.29\" cy=\"766.587\" r=\"14.4\" fill=\"#009af9\" fill-rule=\"evenodd\" fill-opacity=\"1\" stroke=\"#000000\" stroke-opacity=\"1\" stroke-width=\"3.2\"/>\n",
       "<circle clip-path=\"url(#clip262)\" cx=\"1931.97\" cy=\"986.527\" r=\"14.4\" fill=\"#009af9\" fill-rule=\"evenodd\" fill-opacity=\"1\" stroke=\"#000000\" stroke-opacity=\"1\" stroke-width=\"3.2\"/>\n",
       "<circle clip-path=\"url(#clip262)\" cx=\"2003.66\" cy=\"1024.54\" r=\"14.4\" fill=\"#009af9\" fill-rule=\"evenodd\" fill-opacity=\"1\" stroke=\"#000000\" stroke-opacity=\"1\" stroke-width=\"3.2\"/>\n",
       "<circle clip-path=\"url(#clip262)\" cx=\"2075.34\" cy=\"1445.72\" r=\"14.4\" fill=\"#009af9\" fill-rule=\"evenodd\" fill-opacity=\"1\" stroke=\"#000000\" stroke-opacity=\"1\" stroke-width=\"3.2\"/>\n",
       "<circle clip-path=\"url(#clip262)\" cx=\"2147.02\" cy=\"1088.33\" r=\"14.4\" fill=\"#009af9\" fill-rule=\"evenodd\" fill-opacity=\"1\" stroke=\"#000000\" stroke-opacity=\"1\" stroke-width=\"3.2\"/>\n",
       "<circle clip-path=\"url(#clip262)\" cx=\"2218.71\" cy=\"1078.96\" r=\"14.4\" fill=\"#009af9\" fill-rule=\"evenodd\" fill-opacity=\"1\" stroke=\"#000000\" stroke-opacity=\"1\" stroke-width=\"3.2\"/>\n",
       "<circle clip-path=\"url(#clip262)\" cx=\"2290.39\" cy=\"1177\" r=\"14.4\" fill=\"#009af9\" fill-rule=\"evenodd\" fill-opacity=\"1\" stroke=\"#000000\" stroke-opacity=\"1\" stroke-width=\"3.2\"/>\n",
       "<path clip-path=\"url(#clip260)\" d=\"M2006.52 198.898 L2279.3 198.898 L2279.3 95.2176 L2006.52 95.2176  Z\" fill=\"#ffffff\" fill-rule=\"evenodd\" fill-opacity=\"1\"/>\n",
       "<polyline clip-path=\"url(#clip260)\" style=\"stroke:#000000; stroke-linecap:round; stroke-linejoin:round; stroke-width:4; stroke-opacity:1; fill:none\" points=\"2006.52,198.898 2279.3,198.898 2279.3,95.2176 2006.52,95.2176 2006.52,198.898 \"/>\n",
       "<circle clip-path=\"url(#clip260)\" cx=\"2104.45\" cy=\"147.058\" r=\"20.48\" fill=\"#009af9\" fill-rule=\"evenodd\" fill-opacity=\"1\" stroke=\"#000000\" stroke-opacity=\"1\" stroke-width=\"4.55111\"/>\n",
       "<path clip-path=\"url(#clip260)\" d=\"M2216.23 166.745 Q2214.43 171.375 2212.71 172.787 Q2211 174.199 2208.13 174.199 L2204.73 174.199 L2204.73 170.634 L2207.23 170.634 Q2208.99 170.634 2209.96 169.8 Q2210.93 168.967 2212.11 165.865 L2212.88 163.921 L2202.39 138.412 L2206.9 138.412 L2215.01 158.689 L2223.11 138.412 L2227.62 138.412 L2216.23 166.745 Z\" fill=\"#000000\" fill-rule=\"nonzero\" fill-opacity=\"1\" /><path clip-path=\"url(#clip260)\" d=\"M2234.91 160.402 L2242.55 160.402 L2242.55 134.037 L2234.24 135.703 L2234.24 131.444 L2242.5 129.778 L2247.18 129.778 L2247.18 160.402 L2254.82 160.402 L2254.82 164.338 L2234.91 164.338 L2234.91 160.402 Z\" fill=\"#000000\" fill-rule=\"nonzero\" fill-opacity=\"1\" /></svg>\n"
      ],
      "text/html": [
       "<?xml version=\"1.0\" encoding=\"utf-8\"?>\n",
       "<svg xmlns=\"http://www.w3.org/2000/svg\" xmlns:xlink=\"http://www.w3.org/1999/xlink\" width=\"600\" height=\"400\" viewBox=\"0 0 2400 1600\">\n",
       "<defs>\n",
       "  <clipPath id=\"clip310\">\n",
       "    <rect x=\"0\" y=\"0\" width=\"2400\" height=\"1600\"/>\n",
       "  </clipPath>\n",
       "</defs>\n",
       "<path clip-path=\"url(#clip310)\" d=\"M0 1600 L2400 1600 L2400 0 L0 0  Z\" fill=\"#ffffff\" fill-rule=\"evenodd\" fill-opacity=\"1\"/>\n",
       "<defs>\n",
       "  <clipPath id=\"clip311\">\n",
       "    <rect x=\"480\" y=\"0\" width=\"1681\" height=\"1600\"/>\n",
       "  </clipPath>\n",
       "</defs>\n",
       "<path clip-path=\"url(#clip310)\" d=\"M149.191 1486.45 L2352.76 1486.45 L2352.76 47.2441 L149.191 47.2441  Z\" fill=\"#ffffff\" fill-rule=\"evenodd\" fill-opacity=\"1\"/>\n",
       "<defs>\n",
       "  <clipPath id=\"clip312\">\n",
       "    <rect x=\"149\" y=\"47\" width=\"2205\" height=\"1440\"/>\n",
       "  </clipPath>\n",
       "</defs>\n",
       "<polyline clip-path=\"url(#clip312)\" style=\"stroke:#000000; stroke-linecap:round; stroke-linejoin:round; stroke-width:2; stroke-opacity:0.1; fill:none\" points=\"175.714,1486.45 175.714,47.2441 \"/>\n",
       "<polyline clip-path=\"url(#clip312)\" style=\"stroke:#000000; stroke-linecap:round; stroke-linejoin:round; stroke-width:2; stroke-opacity:0.1; fill:none\" points=\"653.607,1486.45 653.607,47.2441 \"/>\n",
       "<polyline clip-path=\"url(#clip312)\" style=\"stroke:#000000; stroke-linecap:round; stroke-linejoin:round; stroke-width:2; stroke-opacity:0.1; fill:none\" points=\"1131.5,1486.45 1131.5,47.2441 \"/>\n",
       "<polyline clip-path=\"url(#clip312)\" style=\"stroke:#000000; stroke-linecap:round; stroke-linejoin:round; stroke-width:2; stroke-opacity:0.1; fill:none\" points=\"1609.39,1486.45 1609.39,47.2441 \"/>\n",
       "<polyline clip-path=\"url(#clip312)\" style=\"stroke:#000000; stroke-linecap:round; stroke-linejoin:round; stroke-width:2; stroke-opacity:0.1; fill:none\" points=\"2087.29,1486.45 2087.29,47.2441 \"/>\n",
       "<polyline clip-path=\"url(#clip312)\" style=\"stroke:#000000; stroke-linecap:round; stroke-linejoin:round; stroke-width:2; stroke-opacity:0.1; fill:none\" points=\"149.191,1283.7 2352.76,1283.7 \"/>\n",
       "<polyline clip-path=\"url(#clip312)\" style=\"stroke:#000000; stroke-linecap:round; stroke-linejoin:round; stroke-width:2; stroke-opacity:0.1; fill:none\" points=\"149.191,907.686 2352.76,907.686 \"/>\n",
       "<polyline clip-path=\"url(#clip312)\" style=\"stroke:#000000; stroke-linecap:round; stroke-linejoin:round; stroke-width:2; stroke-opacity:0.1; fill:none\" points=\"149.191,531.676 2352.76,531.676 \"/>\n",
       "<polyline clip-path=\"url(#clip312)\" style=\"stroke:#000000; stroke-linecap:round; stroke-linejoin:round; stroke-width:2; stroke-opacity:0.1; fill:none\" points=\"149.191,155.667 2352.76,155.667 \"/>\n",
       "<polyline clip-path=\"url(#clip310)\" style=\"stroke:#000000; stroke-linecap:round; stroke-linejoin:round; stroke-width:4; stroke-opacity:1; fill:none\" points=\"149.191,1486.45 2352.76,1486.45 \"/>\n",
       "<polyline clip-path=\"url(#clip310)\" style=\"stroke:#000000; stroke-linecap:round; stroke-linejoin:round; stroke-width:4; stroke-opacity:1; fill:none\" points=\"175.714,1486.45 175.714,1467.55 \"/>\n",
       "<polyline clip-path=\"url(#clip310)\" style=\"stroke:#000000; stroke-linecap:round; stroke-linejoin:round; stroke-width:4; stroke-opacity:1; fill:none\" points=\"653.607,1486.45 653.607,1467.55 \"/>\n",
       "<polyline clip-path=\"url(#clip310)\" style=\"stroke:#000000; stroke-linecap:round; stroke-linejoin:round; stroke-width:4; stroke-opacity:1; fill:none\" points=\"1131.5,1486.45 1131.5,1467.55 \"/>\n",
       "<polyline clip-path=\"url(#clip310)\" style=\"stroke:#000000; stroke-linecap:round; stroke-linejoin:round; stroke-width:4; stroke-opacity:1; fill:none\" points=\"1609.39,1486.45 1609.39,1467.55 \"/>\n",
       "<polyline clip-path=\"url(#clip310)\" style=\"stroke:#000000; stroke-linecap:round; stroke-linejoin:round; stroke-width:4; stroke-opacity:1; fill:none\" points=\"2087.29,1486.45 2087.29,1467.55 \"/>\n",
       "<path clip-path=\"url(#clip310)\" d=\"M175.714 1517.37 Q172.103 1517.37 170.274 1520.93 Q168.469 1524.47 168.469 1531.6 Q168.469 1538.71 170.274 1542.27 Q172.103 1545.82 175.714 1545.82 Q179.348 1545.82 181.154 1542.27 Q182.982 1538.71 182.982 1531.6 Q182.982 1524.47 181.154 1520.93 Q179.348 1517.37 175.714 1517.37 M175.714 1513.66 Q181.524 1513.66 184.58 1518.27 Q187.658 1522.85 187.658 1531.6 Q187.658 1540.33 184.58 1544.94 Q181.524 1549.52 175.714 1549.52 Q169.904 1549.52 166.825 1544.94 Q163.77 1540.33 163.77 1531.6 Q163.77 1522.85 166.825 1518.27 Q169.904 1513.66 175.714 1513.66 Z\" fill=\"#000000\" fill-rule=\"nonzero\" fill-opacity=\"1\" /><path clip-path=\"url(#clip310)\" d=\"M648.26 1544.91 L664.579 1544.91 L664.579 1548.85 L642.635 1548.85 L642.635 1544.91 Q645.297 1542.16 649.88 1537.53 Q654.487 1532.88 655.667 1531.53 Q657.913 1529.01 658.792 1527.27 Q659.695 1525.51 659.695 1523.82 Q659.695 1521.07 657.751 1519.33 Q655.829 1517.6 652.727 1517.6 Q650.528 1517.6 648.075 1518.36 Q645.644 1519.13 642.866 1520.68 L642.866 1515.95 Q645.69 1514.82 648.144 1514.24 Q650.598 1513.66 652.635 1513.66 Q658.005 1513.66 661.2 1516.35 Q664.394 1519.03 664.394 1523.52 Q664.394 1525.65 663.584 1527.57 Q662.797 1529.47 660.69 1532.07 Q660.112 1532.74 657.01 1535.95 Q653.908 1539.15 648.26 1544.91 Z\" fill=\"#000000\" fill-rule=\"nonzero\" fill-opacity=\"1\" /><path clip-path=\"url(#clip310)\" d=\"M1134.51 1518.36 L1122.7 1536.81 L1134.51 1536.81 L1134.51 1518.36 M1133.28 1514.29 L1139.16 1514.29 L1139.16 1536.81 L1144.09 1536.81 L1144.09 1540.7 L1139.16 1540.7 L1139.16 1548.85 L1134.51 1548.85 L1134.51 1540.7 L1118.91 1540.7 L1118.91 1536.19 L1133.28 1514.29 Z\" fill=\"#000000\" fill-rule=\"nonzero\" fill-opacity=\"1\" /><path clip-path=\"url(#clip310)\" d=\"M1609.8 1529.7 Q1606.65 1529.7 1604.8 1531.86 Q1602.97 1534.01 1602.97 1537.76 Q1602.97 1541.49 1604.8 1543.66 Q1606.65 1545.82 1609.8 1545.82 Q1612.95 1545.82 1614.78 1543.66 Q1616.63 1541.49 1616.63 1537.76 Q1616.63 1534.01 1614.78 1531.86 Q1612.95 1529.7 1609.8 1529.7 M1619.08 1515.05 L1619.08 1519.31 Q1617.32 1518.48 1615.52 1518.04 Q1613.73 1517.6 1611.97 1517.6 Q1607.34 1517.6 1604.89 1520.72 Q1602.46 1523.85 1602.11 1530.17 Q1603.48 1528.15 1605.54 1527.09 Q1607.6 1526 1610.08 1526 Q1615.28 1526 1618.29 1529.17 Q1621.33 1532.32 1621.33 1537.76 Q1621.33 1543.08 1618.18 1546.3 Q1615.03 1549.52 1609.8 1549.52 Q1603.8 1549.52 1600.63 1544.94 Q1597.46 1540.33 1597.46 1531.6 Q1597.46 1523.41 1601.35 1518.55 Q1605.24 1513.66 1611.79 1513.66 Q1613.55 1513.66 1615.33 1514.01 Q1617.14 1514.36 1619.08 1515.05 Z\" fill=\"#000000\" fill-rule=\"nonzero\" fill-opacity=\"1\" /><path clip-path=\"url(#clip310)\" d=\"M2087.29 1532.44 Q2083.95 1532.44 2082.03 1534.22 Q2080.13 1536 2080.13 1539.13 Q2080.13 1542.25 2082.03 1544.03 Q2083.95 1545.82 2087.29 1545.82 Q2090.62 1545.82 2092.54 1544.03 Q2094.46 1542.23 2094.46 1539.13 Q2094.46 1536 2092.54 1534.22 Q2090.64 1532.44 2087.29 1532.44 M2082.61 1530.45 Q2079.6 1529.7 2077.91 1527.64 Q2076.24 1525.58 2076.24 1522.62 Q2076.24 1518.48 2079.18 1516.07 Q2082.15 1513.66 2087.29 1513.66 Q2092.45 1513.66 2095.39 1516.07 Q2098.33 1518.48 2098.33 1522.62 Q2098.33 1525.58 2096.64 1527.64 Q2094.97 1529.7 2091.99 1530.45 Q2095.36 1531.23 2097.24 1533.52 Q2099.14 1535.82 2099.14 1539.13 Q2099.14 1544.15 2096.06 1546.83 Q2093 1549.52 2087.29 1549.52 Q2081.57 1549.52 2078.49 1546.83 Q2075.43 1544.15 2075.43 1539.13 Q2075.43 1535.82 2077.33 1533.52 Q2079.23 1531.23 2082.61 1530.45 M2080.9 1523.06 Q2080.9 1525.75 2082.56 1527.25 Q2084.25 1528.76 2087.29 1528.76 Q2090.3 1528.76 2091.99 1527.25 Q2093.7 1525.75 2093.7 1523.06 Q2093.7 1520.38 2091.99 1518.87 Q2090.3 1517.37 2087.29 1517.37 Q2084.25 1517.37 2082.56 1518.87 Q2080.9 1520.38 2080.9 1523.06 Z\" fill=\"#000000\" fill-rule=\"nonzero\" fill-opacity=\"1\" /><polyline clip-path=\"url(#clip310)\" style=\"stroke:#000000; stroke-linecap:round; stroke-linejoin:round; stroke-width:4; stroke-opacity:1; fill:none\" points=\"149.191,1486.45 149.191,47.2441 \"/>\n",
       "<polyline clip-path=\"url(#clip310)\" style=\"stroke:#000000; stroke-linecap:round; stroke-linejoin:round; stroke-width:4; stroke-opacity:1; fill:none\" points=\"149.191,1283.7 168.089,1283.7 \"/>\n",
       "<polyline clip-path=\"url(#clip310)\" style=\"stroke:#000000; stroke-linecap:round; stroke-linejoin:round; stroke-width:4; stroke-opacity:1; fill:none\" points=\"149.191,907.686 168.089,907.686 \"/>\n",
       "<polyline clip-path=\"url(#clip310)\" style=\"stroke:#000000; stroke-linecap:round; stroke-linejoin:round; stroke-width:4; stroke-opacity:1; fill:none\" points=\"149.191,531.676 168.089,531.676 \"/>\n",
       "<polyline clip-path=\"url(#clip310)\" style=\"stroke:#000000; stroke-linecap:round; stroke-linejoin:round; stroke-width:4; stroke-opacity:1; fill:none\" points=\"149.191,155.667 168.089,155.667 \"/>\n",
       "<path clip-path=\"url(#clip310)\" d=\"M50.9921 1284.15 L80.6679 1284.15 L80.6679 1288.08 L50.9921 1288.08 L50.9921 1284.15 Z\" fill=\"#000000\" fill-rule=\"nonzero\" fill-opacity=\"1\" /><path clip-path=\"url(#clip310)\" d=\"M103.608 1270.49 L91.8021 1288.94 L103.608 1288.94 L103.608 1270.49 M102.381 1266.42 L108.26 1266.42 L108.26 1288.94 L113.191 1288.94 L113.191 1292.83 L108.26 1292.83 L108.26 1300.98 L103.608 1300.98 L103.608 1292.83 L88.0058 1292.83 L88.0058 1288.31 L102.381 1266.42 Z\" fill=\"#000000\" fill-rule=\"nonzero\" fill-opacity=\"1\" /><path clip-path=\"url(#clip310)\" d=\"M52.1264 908.137 L81.8021 908.137 L81.8021 912.072 L52.1264 912.072 L52.1264 908.137 Z\" fill=\"#000000\" fill-rule=\"nonzero\" fill-opacity=\"1\" /><path clip-path=\"url(#clip310)\" d=\"M106.061 906.332 Q109.418 907.049 111.293 909.318 Q113.191 911.586 113.191 914.92 Q113.191 920.035 109.672 922.836 Q106.154 925.637 99.6724 925.637 Q97.4965 925.637 95.1817 925.197 Q92.89 924.781 90.4364 923.924 L90.4364 919.41 Q92.3808 920.545 94.6956 921.123 Q97.0104 921.702 99.5335 921.702 Q103.932 921.702 106.223 919.966 Q108.538 918.23 108.538 914.92 Q108.538 911.864 106.385 910.151 Q104.256 908.415 100.436 908.415 L96.4085 908.415 L96.4085 904.572 L100.621 904.572 Q104.071 904.572 105.899 903.207 Q107.728 901.818 107.728 899.225 Q107.728 896.563 105.83 895.151 Q103.955 893.716 100.436 893.716 Q98.515 893.716 96.316 894.133 Q94.1169 894.549 91.478 895.429 L91.478 891.262 Q94.14 890.522 96.4548 890.151 Q98.7928 889.781 100.853 889.781 Q106.177 889.781 109.279 892.211 Q112.381 894.619 112.381 898.739 Q112.381 901.609 110.737 903.6 Q109.094 905.568 106.061 906.332 Z\" fill=\"#000000\" fill-rule=\"nonzero\" fill-opacity=\"1\" /><path clip-path=\"url(#clip310)\" d=\"M53.0754 532.128 L82.7512 532.128 L82.7512 536.063 L53.0754 536.063 L53.0754 532.128 Z\" fill=\"#000000\" fill-rule=\"nonzero\" fill-opacity=\"1\" /><path clip-path=\"url(#clip310)\" d=\"M96.8715 545.021 L113.191 545.021 L113.191 548.956 L91.2465 548.956 L91.2465 545.021 Q93.9086 542.267 98.4919 537.637 Q103.098 532.984 104.279 531.642 Q106.524 529.118 107.404 527.382 Q108.307 525.623 108.307 523.933 Q108.307 521.179 106.362 519.443 Q104.441 517.706 101.339 517.706 Q99.14 517.706 96.6863 518.47 Q94.2558 519.234 91.478 520.785 L91.478 516.063 Q94.3021 514.929 96.7558 514.35 Q99.2095 513.771 101.246 513.771 Q106.617 513.771 109.811 516.456 Q113.006 519.142 113.006 523.632 Q113.006 525.762 112.196 527.683 Q111.408 529.581 109.302 532.174 Q108.723 532.845 105.621 536.063 Q102.52 539.257 96.8715 545.021 Z\" fill=\"#000000\" fill-rule=\"nonzero\" fill-opacity=\"1\" /><path clip-path=\"url(#clip310)\" d=\"M52.7051 156.118 L82.3808 156.118 L82.3808 160.053 L52.7051 160.053 L52.7051 156.118 Z\" fill=\"#000000\" fill-rule=\"nonzero\" fill-opacity=\"1\" /><path clip-path=\"url(#clip310)\" d=\"M93.2836 169.012 L100.922 169.012 L100.922 142.646 L92.6123 144.313 L92.6123 140.053 L100.876 138.387 L105.552 138.387 L105.552 169.012 L113.191 169.012 L113.191 172.947 L93.2836 172.947 L93.2836 169.012 Z\" fill=\"#000000\" fill-rule=\"nonzero\" fill-opacity=\"1\" /><circle clip-path=\"url(#clip312)\" cx=\"211.556\" cy=\"638.157\" r=\"14.4\" fill=\"#009af9\" fill-rule=\"evenodd\" fill-opacity=\"1\" stroke=\"#000000\" stroke-opacity=\"1\" stroke-width=\"3.2\"/>\n",
       "<circle clip-path=\"url(#clip312)\" cx=\"283.24\" cy=\"394.61\" r=\"14.4\" fill=\"#009af9\" fill-rule=\"evenodd\" fill-opacity=\"1\" stroke=\"#000000\" stroke-opacity=\"1\" stroke-width=\"3.2\"/>\n",
       "<circle clip-path=\"url(#clip312)\" cx=\"354.924\" cy=\"87.9763\" r=\"14.4\" fill=\"#009af9\" fill-rule=\"evenodd\" fill-opacity=\"1\" stroke=\"#000000\" stroke-opacity=\"1\" stroke-width=\"3.2\"/>\n",
       "<circle clip-path=\"url(#clip312)\" cx=\"426.608\" cy=\"246.335\" r=\"14.4\" fill=\"#009af9\" fill-rule=\"evenodd\" fill-opacity=\"1\" stroke=\"#000000\" stroke-opacity=\"1\" stroke-width=\"3.2\"/>\n",
       "<circle clip-path=\"url(#clip312)\" cx=\"498.292\" cy=\"419.377\" r=\"14.4\" fill=\"#009af9\" fill-rule=\"evenodd\" fill-opacity=\"1\" stroke=\"#000000\" stroke-opacity=\"1\" stroke-width=\"3.2\"/>\n",
       "<circle clip-path=\"url(#clip312)\" cx=\"569.976\" cy=\"226.342\" r=\"14.4\" fill=\"#009af9\" fill-rule=\"evenodd\" fill-opacity=\"1\" stroke=\"#000000\" stroke-opacity=\"1\" stroke-width=\"3.2\"/>\n",
       "<circle clip-path=\"url(#clip312)\" cx=\"641.66\" cy=\"481.9\" r=\"14.4\" fill=\"#009af9\" fill-rule=\"evenodd\" fill-opacity=\"1\" stroke=\"#000000\" stroke-opacity=\"1\" stroke-width=\"3.2\"/>\n",
       "<circle clip-path=\"url(#clip312)\" cx=\"713.344\" cy=\"356.194\" r=\"14.4\" fill=\"#009af9\" fill-rule=\"evenodd\" fill-opacity=\"1\" stroke=\"#000000\" stroke-opacity=\"1\" stroke-width=\"3.2\"/>\n",
       "<circle clip-path=\"url(#clip312)\" cx=\"785.028\" cy=\"592.387\" r=\"14.4\" fill=\"#009af9\" fill-rule=\"evenodd\" fill-opacity=\"1\" stroke=\"#000000\" stroke-opacity=\"1\" stroke-width=\"3.2\"/>\n",
       "<circle clip-path=\"url(#clip312)\" cx=\"856.712\" cy=\"579.922\" r=\"14.4\" fill=\"#009af9\" fill-rule=\"evenodd\" fill-opacity=\"1\" stroke=\"#000000\" stroke-opacity=\"1\" stroke-width=\"3.2\"/>\n",
       "<circle clip-path=\"url(#clip312)\" cx=\"928.396\" cy=\"711.707\" r=\"14.4\" fill=\"#009af9\" fill-rule=\"evenodd\" fill-opacity=\"1\" stroke=\"#000000\" stroke-opacity=\"1\" stroke-width=\"3.2\"/>\n",
       "<circle clip-path=\"url(#clip312)\" cx=\"1000.08\" cy=\"694.69\" r=\"14.4\" fill=\"#009af9\" fill-rule=\"evenodd\" fill-opacity=\"1\" stroke=\"#000000\" stroke-opacity=\"1\" stroke-width=\"3.2\"/>\n",
       "<circle clip-path=\"url(#clip312)\" cx=\"1071.76\" cy=\"676.291\" r=\"14.4\" fill=\"#009af9\" fill-rule=\"evenodd\" fill-opacity=\"1\" stroke=\"#000000\" stroke-opacity=\"1\" stroke-width=\"3.2\"/>\n",
       "<circle clip-path=\"url(#clip312)\" cx=\"1143.45\" cy=\"733.199\" r=\"14.4\" fill=\"#009af9\" fill-rule=\"evenodd\" fill-opacity=\"1\" stroke=\"#000000\" stroke-opacity=\"1\" stroke-width=\"3.2\"/>\n",
       "<circle clip-path=\"url(#clip312)\" cx=\"1215.13\" cy=\"593.233\" r=\"14.4\" fill=\"#009af9\" fill-rule=\"evenodd\" fill-opacity=\"1\" stroke=\"#000000\" stroke-opacity=\"1\" stroke-width=\"3.2\"/>\n",
       "<circle clip-path=\"url(#clip312)\" cx=\"1286.82\" cy=\"650.772\" r=\"14.4\" fill=\"#009af9\" fill-rule=\"evenodd\" fill-opacity=\"1\" stroke=\"#000000\" stroke-opacity=\"1\" stroke-width=\"3.2\"/>\n",
       "<circle clip-path=\"url(#clip312)\" cx=\"1358.5\" cy=\"845.488\" r=\"14.4\" fill=\"#009af9\" fill-rule=\"evenodd\" fill-opacity=\"1\" stroke=\"#000000\" stroke-opacity=\"1\" stroke-width=\"3.2\"/>\n",
       "<circle clip-path=\"url(#clip312)\" cx=\"1430.18\" cy=\"707.093\" r=\"14.4\" fill=\"#009af9\" fill-rule=\"evenodd\" fill-opacity=\"1\" stroke=\"#000000\" stroke-opacity=\"1\" stroke-width=\"3.2\"/>\n",
       "<circle clip-path=\"url(#clip312)\" cx=\"1501.87\" cy=\"906.5\" r=\"14.4\" fill=\"#009af9\" fill-rule=\"evenodd\" fill-opacity=\"1\" stroke=\"#000000\" stroke-opacity=\"1\" stroke-width=\"3.2\"/>\n",
       "<circle clip-path=\"url(#clip312)\" cx=\"1573.55\" cy=\"852.173\" r=\"14.4\" fill=\"#009af9\" fill-rule=\"evenodd\" fill-opacity=\"1\" stroke=\"#000000\" stroke-opacity=\"1\" stroke-width=\"3.2\"/>\n",
       "<circle clip-path=\"url(#clip312)\" cx=\"1645.24\" cy=\"1052.2\" r=\"14.4\" fill=\"#009af9\" fill-rule=\"evenodd\" fill-opacity=\"1\" stroke=\"#000000\" stroke-opacity=\"1\" stroke-width=\"3.2\"/>\n",
       "<circle clip-path=\"url(#clip312)\" cx=\"1716.92\" cy=\"762.58\" r=\"14.4\" fill=\"#009af9\" fill-rule=\"evenodd\" fill-opacity=\"1\" stroke=\"#000000\" stroke-opacity=\"1\" stroke-width=\"3.2\"/>\n",
       "<circle clip-path=\"url(#clip312)\" cx=\"1788.6\" cy=\"887.505\" r=\"14.4\" fill=\"#009af9\" fill-rule=\"evenodd\" fill-opacity=\"1\" stroke=\"#000000\" stroke-opacity=\"1\" stroke-width=\"3.2\"/>\n",
       "<circle clip-path=\"url(#clip312)\" cx=\"1860.29\" cy=\"766.587\" r=\"14.4\" fill=\"#009af9\" fill-rule=\"evenodd\" fill-opacity=\"1\" stroke=\"#000000\" stroke-opacity=\"1\" stroke-width=\"3.2\"/>\n",
       "<circle clip-path=\"url(#clip312)\" cx=\"1931.97\" cy=\"986.527\" r=\"14.4\" fill=\"#009af9\" fill-rule=\"evenodd\" fill-opacity=\"1\" stroke=\"#000000\" stroke-opacity=\"1\" stroke-width=\"3.2\"/>\n",
       "<circle clip-path=\"url(#clip312)\" cx=\"2003.66\" cy=\"1024.54\" r=\"14.4\" fill=\"#009af9\" fill-rule=\"evenodd\" fill-opacity=\"1\" stroke=\"#000000\" stroke-opacity=\"1\" stroke-width=\"3.2\"/>\n",
       "<circle clip-path=\"url(#clip312)\" cx=\"2075.34\" cy=\"1445.72\" r=\"14.4\" fill=\"#009af9\" fill-rule=\"evenodd\" fill-opacity=\"1\" stroke=\"#000000\" stroke-opacity=\"1\" stroke-width=\"3.2\"/>\n",
       "<circle clip-path=\"url(#clip312)\" cx=\"2147.02\" cy=\"1088.33\" r=\"14.4\" fill=\"#009af9\" fill-rule=\"evenodd\" fill-opacity=\"1\" stroke=\"#000000\" stroke-opacity=\"1\" stroke-width=\"3.2\"/>\n",
       "<circle clip-path=\"url(#clip312)\" cx=\"2218.71\" cy=\"1078.96\" r=\"14.4\" fill=\"#009af9\" fill-rule=\"evenodd\" fill-opacity=\"1\" stroke=\"#000000\" stroke-opacity=\"1\" stroke-width=\"3.2\"/>\n",
       "<circle clip-path=\"url(#clip312)\" cx=\"2290.39\" cy=\"1177\" r=\"14.4\" fill=\"#009af9\" fill-rule=\"evenodd\" fill-opacity=\"1\" stroke=\"#000000\" stroke-opacity=\"1\" stroke-width=\"3.2\"/>\n",
       "<path clip-path=\"url(#clip310)\" d=\"M2006.52 198.898 L2279.3 198.898 L2279.3 95.2176 L2006.52 95.2176  Z\" fill=\"#ffffff\" fill-rule=\"evenodd\" fill-opacity=\"1\"/>\n",
       "<polyline clip-path=\"url(#clip310)\" style=\"stroke:#000000; stroke-linecap:round; stroke-linejoin:round; stroke-width:4; stroke-opacity:1; fill:none\" points=\"2006.52,198.898 2279.3,198.898 2279.3,95.2176 2006.52,95.2176 2006.52,198.898 \"/>\n",
       "<circle clip-path=\"url(#clip310)\" cx=\"2104.45\" cy=\"147.058\" r=\"20.48\" fill=\"#009af9\" fill-rule=\"evenodd\" fill-opacity=\"1\" stroke=\"#000000\" stroke-opacity=\"1\" stroke-width=\"4.55111\"/>\n",
       "<path clip-path=\"url(#clip310)\" d=\"M2216.23 166.745 Q2214.43 171.375 2212.71 172.787 Q2211 174.199 2208.13 174.199 L2204.73 174.199 L2204.73 170.634 L2207.23 170.634 Q2208.99 170.634 2209.96 169.8 Q2210.93 168.967 2212.11 165.865 L2212.88 163.921 L2202.39 138.412 L2206.9 138.412 L2215.01 158.689 L2223.11 138.412 L2227.62 138.412 L2216.23 166.745 Z\" fill=\"#000000\" fill-rule=\"nonzero\" fill-opacity=\"1\" /><path clip-path=\"url(#clip310)\" d=\"M2234.91 160.402 L2242.55 160.402 L2242.55 134.037 L2234.24 135.703 L2234.24 131.444 L2242.5 129.778 L2247.18 129.778 L2247.18 160.402 L2254.82 160.402 L2254.82 164.338 L2234.91 164.338 L2234.91 160.402 Z\" fill=\"#000000\" fill-rule=\"nonzero\" fill-opacity=\"1\" /></svg>\n"
      ]
     },
     "execution_count": 18,
     "metadata": {},
     "output_type": "execute_result"
    }
   ],
   "source": [
    "vals = vec(LRMs[1])\n",
    "vals = vals[vals .> 0.0]\n",
    "\n",
    "bmin = round(minimum(vals))\n",
    "bmax = round(maximum(vals))\n",
    "Δb = (bmax - bmin) / 30\n",
    "fh = FHist.Hist1D(vals, binedges=bmin:Δb:bmax)\n",
    "\n",
    "centers = bincenters(fh)\n",
    "norm_counts = bincounts(fh) ./ (integral(fh) * Δb)\n",
    "\n",
    "valid = norm_counts .> 0.0\n",
    "yy = log.(norm_counts[valid])\n",
    "centers = centers[valid]\n",
    "\n",
    "Plots.scatter(centers, yy)"
   ]
  },
  {
   "cell_type": "code",
   "execution_count": null,
   "id": "5c0946bc-1591-482d-bf3f-7aedf50d37de",
   "metadata": {},
   "outputs": [],
   "source": []
  }
 ],
 "metadata": {
  "kernelspec": {
   "display_name": "julia 1.11.1",
   "language": "julia",
   "name": "julia-1.11"
  },
  "language_info": {
   "file_extension": ".jl",
   "mimetype": "application/julia",
   "name": "julia",
   "version": "1.11.1"
  }
 },
 "nbformat": 4,
 "nbformat_minor": 5
}
