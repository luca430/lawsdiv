{
 "cells": [
  {
   "cell_type": "code",
   "execution_count": 1,
   "id": "bb91f4ee-e02d-4f32-ac1f-2a0df0f083b2",
   "metadata": {},
   "outputs": [
    {
     "name": "stderr",
     "output_type": "stream",
     "text": [
      "\u001b[32m\u001b[1m  Activating\u001b[22m\u001b[39m project at `~/code/lawsdiv`\n"
     ]
    }
   ],
   "source": [
    "using Pkg\n",
    "Pkg.activate(\".\")"
   ]
  },
  {
   "cell_type": "code",
   "execution_count": 2,
   "id": "1a8d06d2-caae-4af6-b93c-39762f3a008e",
   "metadata": {},
   "outputs": [],
   "source": [
    "using DataFrames, DataFramesMeta, GLM\n",
    "using Statistics, StatsBase\n",
    "using SparseArrays\n",
    "using FHist\n",
    "using Plots"
   ]
  },
  {
   "cell_type": "code",
   "execution_count": 3,
   "id": "abdcc253-a5f4-4e88-8a61-f93f47a411a7",
   "metadata": {},
   "outputs": [],
   "source": [
    "include(\"./Data_Input.jl\")\n",
    "using .DataImport"
   ]
  },
  {
   "cell_type": "code",
   "execution_count": 4,
   "id": "6b65da1f-7426-46b3-b9ca-cf8d2db74988",
   "metadata": {},
   "outputs": [],
   "source": [
    "sep_data = DataImport.GetCrossSecData(\"./Data/crosssecdata.RData\"; min_samples=10, min_counts=0, min_nreads=1000);"
   ]
  },
  {
   "cell_type": "code",
   "execution_count": 5,
   "id": "eacc2f16-caa8-463b-a6e6-e5d84f5e4560",
   "metadata": {},
   "outputs": [
    {
     "data": {
      "text/plain": [
       "make_LRM (generic function with 2 methods)"
      ]
     },
     "execution_count": 5,
     "metadata": {},
     "output_type": "execute_result"
    }
   ],
   "source": [
    "function make_LRM(x, portion=1)\n",
    "    \n",
    "    S = Int64(floor(length(x) * portion))\n",
    "    lx = log.(x[1:S])\n",
    "    M = repeat(lx, 1, S)\n",
    "    LRM = M - M'\n",
    "    LRM[isnan.(LRM)] .= 0.0\n",
    "    LRM[isinf.(LRM)] .= 0.0\n",
    "    \n",
    "    return LRM\n",
    "end"
   ]
  },
  {
   "cell_type": "code",
   "execution_count": null,
   "id": "5cdf1372-1a68-4bda-ae46-724137877f04",
   "metadata": {},
   "outputs": [
    {
     "name": "stdout",
     "output_type": "stream",
     "text": [
      "SEAWATER\n",
      "476/476\r"
     ]
    },
    {
     "name": "stderr",
     "output_type": "stream",
     "text": [
      "\u001b[32m\u001b[1m      Active\u001b[22m\u001b[39m manifest files: 3 found\n",
      "\u001b[32m\u001b[1m      Active\u001b[22m\u001b[39m "
     ]
    },
    {
     "name": "stdout",
     "output_type": "stream",
     "text": [
      "RIVER\n",
      "1/189\r"
     ]
    },
    {
     "name": "stderr",
     "output_type": "stream",
     "text": [
      "artifact files: 214 found\n",
      "\u001b[32m\u001b[1m      Active\u001b[22m\u001b[39m scratchspaces: 2 found\n",
      "\u001b[32m\u001b[1m     Deleted\u001b[22m\u001b[39m no artifacts, repos, packages or scratchspaces\n"
     ]
    },
    {
     "name": "stdout",
     "output_type": "stream",
     "text": [
      "189/189\r"
     ]
    },
    {
     "name": "stderr",
     "output_type": "stream",
     "text": [
      "\u001b[32m\u001b[1m      Active\u001b[22m\u001b[39m manifest files: 3 found\n",
      "\u001b[32m\u001b[1m      Active\u001b[22m\u001b[39m artifact files: 214 found\n",
      "\u001b[32m\u001b[1m      Active\u001b[22m\u001b[39m scratchspaces: 2 found\n",
      "\u001b[32m\u001b[1m     Deleted\u001b[22m\u001b[39m "
     ]
    },
    {
     "name": "stdout",
     "output_type": "stream",
     "text": [
      "ORAL\n",
      "1/93\r"
     ]
    },
    {
     "name": "stderr",
     "output_type": "stream",
     "text": [
      "no artifacts, repos, packages or scratchspaces\n"
     ]
    },
    {
     "name": "stdout",
     "output_type": "stream",
     "text": [
      "ORALCAVITY\n",
      "507/507\r"
     ]
    },
    {
     "name": "stderr",
     "output_type": "stream",
     "text": [
      "\u001b[32m\u001b[1m      Active\u001b[22m\u001b[39m manifest files: 3 found\n",
      "\u001b[32m\u001b[1m      Active\u001b[22m\u001b[39m artifact files: 214 found\n",
      "\u001b[32m\u001b[1m      Active\u001b[22m\u001b[39m scratchspaces: 2 found\n",
      "\u001b[32m\u001b[1m     Deleted\u001b[22m\u001b[39m no artifacts, repos, packages or scratchspaces\n",
      "\u001b[32m\u001b[1m      Active\u001b[22m\u001b[39m manifest files: 3 found\n",
      "\u001b[32m\u001b[1m      Active\u001b[22m\u001b[39m "
     ]
    },
    {
     "name": "stdout",
     "output_type": "stream",
     "text": [
      "GUT\n"
     ]
    },
    {
     "name": "stderr",
     "output_type": "stream",
     "text": [
      "artifact files: 214 found\n",
      "\u001b[32m\u001b[1m      Active\u001b[22m\u001b[39m scratchspaces: 2 found\n",
      "\u001b[32m\u001b[1m     Deleted\u001b[22m\u001b[39m no artifacts, repos, packages or scratchspaces\n"
     ]
    },
    {
     "name": "stdout",
     "output_type": "stream",
     "text": [
      "2/297\r"
     ]
    }
   ],
   "source": [
    "fig = plot()\n",
    "env_matrix = Dict()\n",
    "for (key, data) in sep_data\n",
    "    println(key)\n",
    "\n",
    "    # Compute frequencies\n",
    "    data.f = data.count ./ data.nreads \n",
    "\n",
    "    # Get otus and runs for considered environment\n",
    "    otus = unique(data.otu_id)\n",
    "    runs = unique(data.run_id)\n",
    "    otu_index = Dict(otu => i for (i, otu) in enumerate(otus))\n",
    "    run_index = Dict(run => i for (i, run) in enumerate(runs))\n",
    "\n",
    "    # Initialize matrix with zeros\n",
    "    y = zeros(length(runs), length(otus))\n",
    "    \n",
    "    otu_groups = groupby(data, :otu_id)\n",
    "    for g in otu_groups\n",
    "        otu = g.otu_id[1]\n",
    "        i = otu_index[otu]\n",
    "        for (run, fval) in zip(g.run_id, g.f)\n",
    "            j = run_index[run]\n",
    "            y[j, i] = fval\n",
    "        end\n",
    "    end\n",
    "\n",
    "    zero_counts = sum(y .== 0, dims=1)\n",
    "    perm = sortperm(vec(zero_counts))\n",
    "\n",
    "    # env_matrix[\"$key\"] = y[:, perm]\n",
    "\n",
    "    y = y[:, perm]\n",
    "    s = size(y)\n",
    "    \n",
    "    all_vals = []\n",
    "    for i in 1:size(y,1)\n",
    "        print(i, \"/$(size(y,1))\\r\")\n",
    "        LRM = make_LRM(y[i,:], 0.4)\n",
    "        vals = vec(LRM)\n",
    "        push!(all_vals, vals[vals .> 0.0])\n",
    "    end\n",
    "    \n",
    "    all_vals = vcat(all_vals...)\n",
    "    \n",
    "    bmin = round(minimum(all_vals))\n",
    "    bmax = round(maximum(all_vals))\n",
    "    Δb = (bmax - bmin) / 30\n",
    "    fh = FHist.Hist1D(all_vals, binedges=bmin:Δb:bmax)\n",
    "    \n",
    "    μ, σ = mean(fh), std(fh)\n",
    "    centers = bincenters(fh)\n",
    "    centers .-= μ\n",
    "    centers ./= σ\n",
    "    norm_counts = bincounts(fh) ./ (integral(fh) * Δb)\n",
    "    \n",
    "    valid = norm_counts .> 0.0\n",
    "    yy = log.(norm_counts[valid])\n",
    "    centers = centers[valid]\n",
    "    \n",
    "    scatter!(fig, centers, yy, label=\"$key $s\")\n",
    "\n",
    "    Pkg.gc()\n",
    "\n",
    "end"
   ]
  },
  {
   "cell_type": "code",
   "execution_count": null,
   "id": "d3d9e6ec-7e64-4ada-99be-525dc01dc2cc",
   "metadata": {},
   "outputs": [],
   "source": [
    "display(fig)"
   ]
  },
  {
   "cell_type": "code",
   "execution_count": null,
   "id": "7573fd78-e6ca-4c5c-ac5f-b6bdeabded97",
   "metadata": {},
   "outputs": [],
   "source": []
  }
 ],
 "metadata": {
  "kernelspec": {
   "display_name": "julia 1.11.1",
   "language": "julia",
   "name": "julia-1.11"
  },
  "language_info": {
   "file_extension": ".jl",
   "mimetype": "application/julia",
   "name": "julia",
   "version": "1.11.1"
  }
 },
 "nbformat": 4,
 "nbformat_minor": 5
}
