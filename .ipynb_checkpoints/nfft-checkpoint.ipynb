{
 "cells": [
  {
   "cell_type": "code",
   "execution_count": 1,
   "id": "1148191e-effd-464a-ac8f-f794dbf9fb5c",
   "metadata": {},
   "outputs": [
    {
     "name": "stderr",
     "output_type": "stream",
     "text": [
      "\u001b[32m\u001b[1m  Activating\u001b[22m\u001b[39m project at `~/code/lawsdiv`\n"
     ]
    }
   ],
   "source": [
    "using Pkg\n",
    "Pkg.activate(\".\")"
   ]
  },
  {
   "cell_type": "code",
   "execution_count": 2,
   "id": "a6d2493c-de63-4a95-9d4d-41aa80a7b249",
   "metadata": {},
   "outputs": [],
   "source": [
    "include(\"./nfft.jl\")\n",
    "using .Spectrum"
   ]
  },
  {
   "cell_type": "code",
   "execution_count": null,
   "id": "ced791a3-581e-4f8c-af03-be5c28196386",
   "metadata": {},
   "outputs": [],
   "source": []
  }
 ],
 "metadata": {
  "kernelspec": {
   "display_name": "julia 1.11.1",
   "language": "julia",
   "name": "julia-1.11"
  },
  "language_info": {
   "file_extension": ".jl",
   "mimetype": "application/julia",
   "name": "julia",
   "version": "1.11.1"
  }
 },
 "nbformat": 4,
 "nbformat_minor": 5
}
