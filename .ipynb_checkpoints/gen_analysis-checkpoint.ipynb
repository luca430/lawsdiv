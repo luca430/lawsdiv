{
 "cells": [
  {
   "cell_type": "code",
   "execution_count": 1,
   "id": "ca2f070f-a614-4955-aa78-fbff528fbf95",
   "metadata": {},
   "outputs": [
    {
     "name": "stderr",
     "output_type": "stream",
     "text": [
      "\u001b[32m\u001b[1m  Activating\u001b[22m\u001b[39m project at `~/code/lawsdiv`\n"
     ]
    }
   ],
   "source": [
    "using Pkg\n",
    "Pkg.activate(\".\")"
   ]
  },
  {
   "cell_type": "code",
   "execution_count": 155,
   "id": "7e819a21-e2ba-45b0-bdc2-9934e235f770",
   "metadata": {},
   "outputs": [
    {
     "name": "stderr",
     "output_type": "stream",
     "text": [
      "WARNING: replacing module MakeDistributions.\n",
      "WARNING: replacing module Plots.\n"
     ]
    }
   ],
   "source": [
    "include(\"./Distributions.jl\")\n",
    "using .MakeDistributions\n",
    "\n",
    "include(\"./Plots.jl\")\n",
    "using .Plots"
   ]
  },
  {
   "cell_type": "code",
   "execution_count": 7,
   "id": "89940e3c-52b1-4511-b852-8290ed7b77d9",
   "metadata": {},
   "outputs": [
    {
     "name": "stderr",
     "output_type": "stream",
     "text": [
      "\u001b[36m\u001b[1m[ \u001b[22m\u001b[39m\u001b[36m\u001b[1mInfo: \u001b[22m\u001b[39mPrecompiling CSV [336ed68f-0bac-5ca0-87d4-7b16caf5d00b] (cache misses: wrong dep version loaded (6))\n"
     ]
    }
   ],
   "source": [
    "using DataFrames, DataFramesMeta, GLM\n",
    "using Statistics, StatsBase\n",
    "using CodecZlib, MatrixMarket\n",
    "using CSV"
   ]
  },
  {
   "cell_type": "code",
   "execution_count": 9,
   "id": "6e9b32ad-26c1-4660-8d0e-4cc09e309023",
   "metadata": {},
   "outputs": [],
   "source": [
    "df = CSV.read(\"./Data/10331_raw_counts.csv\", DataFrame; delim = ',');"
   ]
  },
  {
   "cell_type": "code",
   "execution_count": 22,
   "id": "bf730dd8-b51a-4485-b6f6-4fd41c8181fb",
   "metadata": {},
   "outputs": [],
   "source": [
    "A = Matrix(df[:, 2:end])'\n",
    "M = A ./ sum(A, dims=1);"
   ]
  },
  {
   "cell_type": "code",
   "execution_count": 156,
   "id": "43755afa-2546-4976-aa29-3d41ba9e87f0",
   "metadata": {},
   "outputs": [
    {
     "name": "stdout",
     "output_type": "stream",
     "text": [
      "5.567977749437233\n"
     ]
    },
    {
     "data": {
      "text/plain": [
       "Dict{String, Any} with 4 entries:\n",
       "  \"hparams\" => Dict(\"μ\"=>0.684038, \"σ\"=>1.12424)\n",
       "  \"params\"  => Dict(\"σ_x\"=>8.01804, \"β\"=>0.251502, \"μ_x\"=>4.02105)\n",
       "  \"env\"     => \"AFD\"\n",
       "  \"hist\"    => [[-2.91464, -2.90206, -2.8769, -2.83917, -2.80143, -2.77627, -2.…"
      ]
     },
     "execution_count": 156,
     "metadata": {},
     "output_type": "execute_result"
    }
   ],
   "source": [
    "# Compute distributions\n",
    "afd = MakeDistributions.make_AFD(M; Δb=0.02, env=\"AFD\")\n",
    "# mad = MakeDistributions.make_MAD(M; Δb=0.5, env=\"MAD\", c=exp(-20))\n",
    "\n",
    "fig = Plots.combine_AFD_histograms([afd], nrows=1, ncols=1, fig_size=(500, 400), data_label=\"data\", savepath=nothing)\n",
    "display(fig)\n",
    "\n",
    "# fig = Plots.combine_MAD_histograms([mad], nrows=1, ncols=1, fig_size=(500, 400), data_label=\"data\", savepath=nothing)\n",
    "# display(fig)"
   ]
  },
  {
   "cell_type": "code",
   "execution_count": null,
   "id": "99a704af-3358-4ca8-b5c7-27106b935efa",
   "metadata": {},
   "outputs": [],
   "source": []
  }
 ],
 "metadata": {
  "kernelspec": {
   "display_name": "julia 1.11.1",
   "language": "julia",
   "name": "julia-1.11"
  },
  "language_info": {
   "file_extension": ".jl",
   "mimetype": "application/julia",
   "name": "julia",
   "version": "1.11.1"
  }
 },
 "nbformat": 4,
 "nbformat_minor": 5
}
