{
 "cells": [
  {
   "cell_type": "code",
   "execution_count": 1,
   "id": "2a751ce0-b40f-4f64-9589-c34011b381ce",
   "metadata": {},
   "outputs": [],
   "source": [
    "import matplotlib.pyplot as plt\n",
    "import pandas as pd\n",
    "import numpy as np\n",
    "import pyreadr"
   ]
  },
  {
   "cell_type": "code",
   "execution_count": 6,
   "id": "7d13bfa6-80dd-4828-b3e0-a3abd050ab9a",
   "metadata": {},
   "outputs": [
    {
     "data": {
      "text/html": [
       "<div>\n",
       "<style scoped>\n",
       "    .dataframe tbody tr th:only-of-type {\n",
       "        vertical-align: middle;\n",
       "    }\n",
       "\n",
       "    .dataframe tbody tr th {\n",
       "        vertical-align: top;\n",
       "    }\n",
       "\n",
       "    .dataframe thead th {\n",
       "        text-align: right;\n",
       "    }\n",
       "</style>\n",
       "<table border=\"1\" class=\"dataframe\">\n",
       "  <thead>\n",
       "    <tr style=\"text-align: right;\">\n",
       "      <th></th>\n",
       "      <th>otu_id</th>\n",
       "      <th>count</th>\n",
       "      <th>project_id</th>\n",
       "      <th>sample_id</th>\n",
       "      <th>run_id</th>\n",
       "      <th>classification</th>\n",
       "      <th>host_id</th>\n",
       "      <th>host_age</th>\n",
       "      <th>date_collection</th>\n",
       "      <th>experiment_day</th>\n",
       "      <th>samplesite</th>\n",
       "      <th>nreads</th>\n",
       "    </tr>\n",
       "  </thead>\n",
       "  <tbody>\n",
       "    <tr>\n",
       "      <th>0</th>\n",
       "      <td>103181</td>\n",
       "      <td>21.0</td>\n",
       "      <td>ERP021896</td>\n",
       "      <td>ERS1579905</td>\n",
       "      <td>ERR1868749</td>\n",
       "      <td>oralcavity</td>\n",
       "      <td>M3</td>\n",
       "      <td>32.43</td>\n",
       "      <td>2009-04-20</td>\n",
       "      <td>181</td>\n",
       "      <td>Tongue</td>\n",
       "      <td>43753.0</td>\n",
       "    </tr>\n",
       "    <tr>\n",
       "      <th>1</th>\n",
       "      <td>219738</td>\n",
       "      <td>19.0</td>\n",
       "      <td>ERP021896</td>\n",
       "      <td>ERS1579905</td>\n",
       "      <td>ERR1868749</td>\n",
       "      <td>oralcavity</td>\n",
       "      <td>M3</td>\n",
       "      <td>32.43</td>\n",
       "      <td>2009-04-20</td>\n",
       "      <td>181</td>\n",
       "      <td>Tongue</td>\n",
       "      <td>43753.0</td>\n",
       "    </tr>\n",
       "    <tr>\n",
       "      <th>2</th>\n",
       "      <td>261104</td>\n",
       "      <td>1.0</td>\n",
       "      <td>ERP021896</td>\n",
       "      <td>ERS1579905</td>\n",
       "      <td>ERR1868749</td>\n",
       "      <td>oralcavity</td>\n",
       "      <td>M3</td>\n",
       "      <td>32.43</td>\n",
       "      <td>2009-04-20</td>\n",
       "      <td>181</td>\n",
       "      <td>Tongue</td>\n",
       "      <td>43753.0</td>\n",
       "    </tr>\n",
       "    <tr>\n",
       "      <th>3</th>\n",
       "      <td>47921</td>\n",
       "      <td>5.0</td>\n",
       "      <td>ERP021896</td>\n",
       "      <td>ERS1579905</td>\n",
       "      <td>ERR1868749</td>\n",
       "      <td>oralcavity</td>\n",
       "      <td>M3</td>\n",
       "      <td>32.43</td>\n",
       "      <td>2009-04-20</td>\n",
       "      <td>181</td>\n",
       "      <td>Tongue</td>\n",
       "      <td>43753.0</td>\n",
       "    </tr>\n",
       "    <tr>\n",
       "      <th>4</th>\n",
       "      <td>5336</td>\n",
       "      <td>471.0</td>\n",
       "      <td>ERP021896</td>\n",
       "      <td>ERS1579905</td>\n",
       "      <td>ERR1868749</td>\n",
       "      <td>oralcavity</td>\n",
       "      <td>M3</td>\n",
       "      <td>32.43</td>\n",
       "      <td>2009-04-20</td>\n",
       "      <td>181</td>\n",
       "      <td>Tongue</td>\n",
       "      <td>43753.0</td>\n",
       "    </tr>\n",
       "  </tbody>\n",
       "</table>\n",
       "</div>"
      ],
      "text/plain": [
       "   otu_id  count project_id   sample_id      run_id classification host_id  \\\n",
       "0  103181   21.0  ERP021896  ERS1579905  ERR1868749     oralcavity      M3   \n",
       "1  219738   19.0  ERP021896  ERS1579905  ERR1868749     oralcavity      M3   \n",
       "2  261104    1.0  ERP021896  ERS1579905  ERR1868749     oralcavity      M3   \n",
       "3   47921    5.0  ERP021896  ERS1579905  ERR1868749     oralcavity      M3   \n",
       "4    5336  471.0  ERP021896  ERS1579905  ERR1868749     oralcavity      M3   \n",
       "\n",
       "   host_age date_collection  experiment_day samplesite   nreads  \n",
       "0     32.43      2009-04-20             181     Tongue  43753.0  \n",
       "1     32.43      2009-04-20             181     Tongue  43753.0  \n",
       "2     32.43      2009-04-20             181     Tongue  43753.0  \n",
       "3     32.43      2009-04-20             181     Tongue  43753.0  \n",
       "4     32.43      2009-04-20             181     Tongue  43753.0  "
      ]
     },
     "execution_count": 6,
     "metadata": {},
     "output_type": "execute_result"
    }
   ],
   "source": [
    "# Import data\n",
    "raw_data = pyreadr.read_r(\"./Data/longitudinal.RData\")['proj_time']\n",
    "raw_data.head()"
   ]
  },
  {
   "cell_type": "markdown",
   "id": "967dbbec-8892-4607-99f8-c523264e277f",
   "metadata": {},
   "source": [
    "**project_id**: identifies projects\\\n",
    "**classification**: identifies the environments considered within a project\\\n",
    "**samplesite**: identifies the specific site from which a sample is taken\\\n",
    "**sample_id**: identifies samples (communities) gathered within the same environment\\\n",
    "**run_id**: identifies the machine run to identify species in a sample. Multiple runs are possible within the same sample\\\n",
    "**otu_id**: identifies species\\\n",
    "**count**: number of species with specific otu_id observed in a single run\\\n",
    "**nreads**: total number of species observed in a single run\\\n",
    "**host_id**: identifies host of the sample\\\n",
    "**host_age**: age of the host\\\n",
    "**date_collection**: day of sample collection in format YYY-MM-DD\\\n",
    "**experiment_day**: day passed from the beginning of data collection\\"
   ]
  },
  {
   "cell_type": "code",
   "execution_count": 7,
   "id": "0bc581e7-3e56-46f4-827e-b09ba75f59e1",
   "metadata": {},
   "outputs": [
    {
     "data": {
      "text/plain": [
       "array(['feces', 'oralcavity', 'skin'], dtype=object)"
      ]
     },
     "execution_count": 7,
     "metadata": {},
     "output_type": "execute_result"
    }
   ],
   "source": [
    "np.unique(raw_data['classification'])"
   ]
  },
  {
   "cell_type": "code",
   "execution_count": 9,
   "id": "e21f75ca-6daf-48bb-939b-f1ee9469b3d2",
   "metadata": {},
   "outputs": [],
   "source": [
    "# Some environments have 'nreads' and 'count' inverted (I suppose) so they need to be fixed\n",
    "mask = raw_data['nreads'] < raw_data['count']\n",
    "raw_data.loc[mask, ['nreads', 'count']] = raw_data.loc[mask, ['count', 'nreads']].values\n",
    "\n",
    "# Further analysis is done only for environments with a 'sufficient' number of samples and\n",
    "# for runs which detected a 'sufficient' number of reads (I don't know if the order of these operations is important)\n",
    "min_samples = 50\n",
    "min_nreads = 1e4\n",
    "filtered_data = raw_data.groupby('project_id').filter(lambda x: x['sample_id'].nunique() > 50)\n",
    "filtered_data = filtered_data[filtered_data['nreads'] > min_nreads]"
   ]
  },
  {
   "cell_type": "code",
   "execution_count": 10,
   "id": "9297bff1-817a-41fa-81bd-501352d92a19",
   "metadata": {},
   "outputs": [],
   "source": [
    "# Divide data for different environments\n",
    "FECES = filtered_data[filtered_data['classification'] == 'feces']\n",
    "ORALCAVITY = filtered_data[filtered_data['classification'] == 'oralcavity']\n",
    "SKIN = filtered_data[filtered_data['classification'] == 'skin']\n",
    "\n",
    "# Drop 'classification' column and compute frequencies\n",
    "dfs = [FECES, ORALCAVITY, SKIN]\n",
    "\n",
    "for i,df in enumerate(dfs):\n",
    "    df = df.drop(columns=['classification'])\n",
    "    df = df.copy()\n",
    "    df['f'] = df['count'] / df['nreads']\n",
    "    dfs[i] = df\n",
    "\n",
    "# Extract all environments\n",
    "# NOTE: Each environment can still have samples from different projects. Since I don't have any information about \n",
    "#       the specific methodologies used in different experiments, I treat them as statistically equivalent.\n",
    "(FECES, ORALCAVITY, SKIN) = dfs"
   ]
  },
  {
   "cell_type": "code",
   "execution_count": null,
   "id": "528d3c89-5dfd-4ae0-86d1-855f94181dbb",
   "metadata": {},
   "outputs": [],
   "source": []
  }
 ],
 "metadata": {
  "kernelspec": {
   "display_name": "Python (lawsdiv)",
   "language": "python",
   "name": "lawsdiv"
  },
  "language_info": {
   "codemirror_mode": {
    "name": "ipython",
    "version": 3
   },
   "file_extension": ".py",
   "mimetype": "text/x-python",
   "name": "python",
   "nbconvert_exporter": "python",
   "pygments_lexer": "ipython3",
   "version": "3.13.2"
  }
 },
 "nbformat": 4,
 "nbformat_minor": 5
}
